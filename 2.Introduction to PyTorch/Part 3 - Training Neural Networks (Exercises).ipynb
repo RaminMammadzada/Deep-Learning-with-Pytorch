{
 "cells": [
  {
   "cell_type": "markdown",
   "metadata": {},
   "source": [
    "# Training Neural Networks\n",
    "\n",
    "The network we built in the previous part isn't so smart, it doesn't know anything about our handwritten digits. Neural networks with non-linear activations work like universal function approximators. There is some function that maps your input to the output. For example, images of handwritten digits to class probabilities. The power of neural networks is that we can train them to approximate this function, and basically any function given enough data and compute time.\n",
    "\n",
    "<img src=\"assets/function_approx.png\" width=500px>\n",
    "\n",
    "At first the network is naive, it doesn't know the function mapping the inputs to the outputs. We train the network by showing it examples of real data, then adjusting the network parameters such that it approximates this function.\n",
    "\n",
    "To find these parameters, we need to know how poorly the network is predicting the real outputs. For this we calculate a **loss function** (also called the cost), a measure of our prediction error. For example, the mean squared loss is often used in regression and binary classification problems\n",
    "\n",
    "$$\n",
    "\\large \\ell = \\frac{1}{2n}\\sum_i^n{\\left(y_i - \\hat{y}_i\\right)^2}\n",
    "$$\n",
    "\n",
    "where $n$ is the number of training examples, $y_i$ are the true labels, and $\\hat{y}_i$ are the predicted labels.\n",
    "\n",
    "By minimizing this loss with respect to the network parameters, we can find configurations where the loss is at a minimum and the network is able to predict the correct labels with high accuracy. We find this minimum using a process called **gradient descent**. The gradient is the slope of the loss function and points in the direction of fastest change. To get to the minimum in the least amount of time, we then want to follow the gradient (downwards). You can think of this like descending a mountain by following the steepest slope to the base.\n",
    "\n",
    "<img src='assets/gradient_descent.png' width=350px>"
   ]
  },
  {
   "cell_type": "markdown",
   "metadata": {},
   "source": [
    "## Backpropagation\n",
    "\n",
    "For single layer networks, gradient descent is straightforward to implement. However, it's more complicated for deeper, multilayer neural networks like the one we've built. Complicated enough that it took about 30 years before researchers figured out how to train multilayer networks.\n",
    "\n",
    "Training multilayer networks is done through **backpropagation** which is really just an application of the chain rule from calculus. It's easiest to understand if we convert a two layer network into a graph representation.\n",
    "\n",
    "<img src='assets/backprop_diagram.png' width=550px>\n",
    "\n",
    "In the forward pass through the network, our data and operations go from bottom to top here. We pass the input $x$ through a linear transformation $L_1$ with weights $W_1$ and biases $b_1$. The output then goes through the sigmoid operation $S$ and another linear transformation $L_2$. Finally we calculate the loss $\\ell$. We use the loss as a measure of how bad the network's predictions are. The goal then is to adjust the weights and biases to minimize the loss.\n",
    "\n",
    "To train the weights with gradient descent, we propagate the gradient of the loss backwards through the network. Each operation has some gradient between the inputs and outputs. As we send the gradients backwards, we multiply the incoming gradient with the gradient for the operation. Mathematically, this is really just calculating the gradient of the loss with respect to the weights using the chain rule.\n",
    "\n",
    "$$\n",
    "\\large \\frac{\\partial \\ell}{\\partial W_1} = \\frac{\\partial L_1}{\\partial W_1} \\frac{\\partial S}{\\partial L_1} \\frac{\\partial L_2}{\\partial S} \\frac{\\partial \\ell}{\\partial L_2}\n",
    "$$\n",
    "\n",
    "**Note:** I'm glossing over a few details here that require some knowledge of vector calculus, but they aren't necessary to understand what's going on.\n",
    "\n",
    "We update our weights using this gradient with some learning rate $\\alpha$. \n",
    "\n",
    "$$\n",
    "\\large W^\\prime_1 = W_1 - \\alpha \\frac{\\partial \\ell}{\\partial W_1}\n",
    "$$\n",
    "\n",
    "The learning rate $\\alpha$ is set such that the weight update steps are small enough that the iterative method settles in a minimum."
   ]
  },
  {
   "cell_type": "markdown",
   "metadata": {},
   "source": [
    "## Losses in PyTorch\n",
    "\n",
    "Let's start by seeing how we calculate the loss with PyTorch. Through the `nn` module, PyTorch provides losses such as the cross-entropy loss (`nn.CrossEntropyLoss`). You'll usually see the loss assigned to `criterion`. As noted in the last part, with a classification problem such as MNIST, we're using the softmax function to predict class probabilities. With a softmax output, you want to use cross-entropy as the loss. To actually calculate the loss, you first define the criterion then pass in the output of your network and the correct labels.\n",
    "\n",
    "Something really important to note here. Looking at [the documentation for `nn.CrossEntropyLoss`](https://pytorch.org/docs/stable/nn.html#torch.nn.CrossEntropyLoss),\n",
    "\n",
    "> This criterion combines `nn.LogSoftmax()` and `nn.NLLLoss()` in one single class.\n",
    ">\n",
    "> The input is expected to contain scores for each class.\n",
    "\n",
    "This means we need to pass in the raw output of our network into the loss, not the output of the softmax function. This raw output is usually called the *logits* or *scores*. We use the logits because softmax gives you probabilities which will often be very close to zero or one but floating-point numbers can't accurately represent values near zero or one ([read more here](https://docs.python.org/3/tutorial/floatingpoint.html)). It's usually best to avoid doing calculations with probabilities, typically we use log-probabilities."
   ]
  },
  {
   "cell_type": "code",
   "execution_count": 2,
   "metadata": {},
   "outputs": [],
   "source": [
    "import torch\n",
    "from torch import nn\n",
    "import torch.nn.functional as F\n",
    "from torchvision import datasets, transforms\n",
    "\n",
    "# Define a transform to normalize the data\n",
    "transform = transforms.Compose([transforms.ToTensor(),\n",
    "                                transforms.Normalize((0.5, 0.5, 0.5), (0.5, 0.5, 0.5)),\n",
    "                              ])\n",
    "# Download and load the training data\n",
    "trainset = datasets.MNIST('~/.pytorch/MNIST_data/', download=True, train=True, transform=transform)\n",
    "trainloader = torch.utils.data.DataLoader(trainset, batch_size=64, shuffle=True)"
   ]
  },
  {
   "cell_type": "markdown",
   "metadata": {},
   "source": [
    "### Note\n",
    "If you haven't seen `nn.Sequential` yet, please finish the end of the Part 2 notebook."
   ]
  },
  {
   "cell_type": "code",
   "execution_count": 3,
   "metadata": {},
   "outputs": [
    {
     "name": "stdout",
     "output_type": "stream",
     "text": [
      "tensor(2.3151, grad_fn=<NllLossBackward>)\n"
     ]
    }
   ],
   "source": [
    "# Build a feed-forward network\n",
    "model = nn.Sequential(nn.Linear(784, 128),\n",
    "                      nn.ReLU(),\n",
    "                      nn.Linear(128, 64),\n",
    "                      nn.ReLU(),\n",
    "                      nn.Linear(64, 10))\n",
    "\n",
    "# Define the loss\n",
    "criterion = nn.CrossEntropyLoss()\n",
    "\n",
    "# Get our data\n",
    "images, labels = next(iter(trainloader))\n",
    "# Flatten images\n",
    "images = images.view(images.shape[0], -1)\n",
    "\n",
    "# Forward pass, get our logits\n",
    "logits = model(images)\n",
    "# Calculate the loss with the logits and the labels\n",
    "loss = criterion(logits, labels)\n",
    "\n",
    "print(loss)"
   ]
  },
  {
   "cell_type": "markdown",
   "metadata": {},
   "source": [
    "In my experience it's more convenient to build the model with a log-softmax output using `nn.LogSoftmax` or `F.log_softmax` ([documentation](https://pytorch.org/docs/stable/nn.html#torch.nn.LogSoftmax)). Then you can get the actual probabilities by taking the exponential `torch.exp(output)`. With a log-softmax output, you want to use the negative log likelihood loss, `nn.NLLLoss` ([documentation](https://pytorch.org/docs/stable/nn.html#torch.nn.NLLLoss)).\n",
    "\n",
    ">**Exercise:** Build a model that returns the log-softmax as the output and calculate the loss using the negative log likelihood loss. Note that for `nn.LogSoftmax` and `F.log_softmax` you'll need to set the `dim` keyword argument appropriately. `dim=0` calculates softmax across the rows, so each column sums to 1, while `dim=1` calculates across the columns so each row sums to 1. Think about what you want the output to be and choose `dim` appropriately."
   ]
  },
  {
   "cell_type": "code",
   "execution_count": 4,
   "metadata": {},
   "outputs": [
    {
     "name": "stdout",
     "output_type": "stream",
     "text": [
      "tensor(2.3035, grad_fn=<NllLossBackward>)\n"
     ]
    }
   ],
   "source": [
    "# TODO: Build a feed-forward network\n",
    "model = nn.Sequential(nn.Linear(784, 128),\n",
    "                      nn.ReLU(),\n",
    "                      nn.Linear(128, 64),\n",
    "                      nn.ReLU(),\n",
    "                      nn.Linear(64, 10),\n",
    "                      nn.LogSoftmax(dim=1) )\n",
    "\n",
    "# TODO: Define the loss\n",
    "criterion = nn.NLLLoss()\n",
    "\n",
    "### Run this to check your work\n",
    "# Get our data\n",
    "images, labels = next(iter(trainloader))\n",
    "# Flatten images\n",
    "images = images.view(images.shape[0], -1)\n",
    "\n",
    "# Forward pass, get our logits\n",
    "logProbabilities = model(images)\n",
    "# Calculate the loss with the logits and the labels\n",
    "loss = criterion(logProbabilities, labels)\n",
    "\n",
    "print(loss)"
   ]
  },
  {
   "cell_type": "markdown",
   "metadata": {},
   "source": [
    "## Autograd\n",
    "\n",
    "Now that we know how to calculate a loss, how do we use it to perform backpropagation? Torch provides a module, `autograd`, for automatically calculating the gradients of tensors. We can use it to calculate the gradients of all our parameters with respect to the loss. Autograd works by keeping track of operations performed on tensors, then going backwards through those operations, calculating gradients along the way. To make sure PyTorch keeps track of operations on a tensor and calculates the gradients, you need to set `requires_grad = True` on a tensor. You can do this at creation with the `requires_grad` keyword, or at any time with `x.requires_grad_(True)`.\n",
    "\n",
    "You can turn off gradients for a block of code with the `torch.no_grad()` content:\n",
    "```python\n",
    "x = torch.zeros(1, requires_grad=True)\n",
    ">>> with torch.no_grad():\n",
    "...     y = x * 2\n",
    ">>> y.requires_grad\n",
    "False\n",
    "```\n",
    "\n",
    "Also, you can turn on or off gradients altogether with `torch.set_grad_enabled(True|False)`.\n",
    "\n",
    "The gradients are computed with respect to some variable `z` with `z.backward()`. This does a backward pass through the operations that created `z`."
   ]
  },
  {
   "cell_type": "code",
   "execution_count": 5,
   "metadata": {},
   "outputs": [
    {
     "name": "stdout",
     "output_type": "stream",
     "text": [
      "tensor([[ 0.6813, -1.1400],\n",
      "        [ 0.5988,  0.9819]], requires_grad=True)\n"
     ]
    }
   ],
   "source": [
    "x = torch.randn(2,2, requires_grad=True)\n",
    "print(x)"
   ]
  },
  {
   "cell_type": "code",
   "execution_count": 6,
   "metadata": {},
   "outputs": [
    {
     "name": "stdout",
     "output_type": "stream",
     "text": [
      "tensor([[0.4642, 1.2996],\n",
      "        [0.3586, 0.9641]], grad_fn=<PowBackward0>)\n"
     ]
    }
   ],
   "source": [
    "y = x**2\n",
    "print(y)"
   ]
  },
  {
   "cell_type": "markdown",
   "metadata": {},
   "source": [
    "Below we can see the operation that created `y`, a power operation `PowBackward0`."
   ]
  },
  {
   "cell_type": "code",
   "execution_count": 7,
   "metadata": {},
   "outputs": [
    {
     "name": "stdout",
     "output_type": "stream",
     "text": [
      "<PowBackward0 object at 0x10772f400>\n"
     ]
    }
   ],
   "source": [
    "## grad_fn shows the function that generated this variable\n",
    "print(y.grad_fn)"
   ]
  },
  {
   "cell_type": "markdown",
   "metadata": {},
   "source": [
    "The autgrad module keeps track of these operations and knows how to calculate the gradient for each one. In this way, it's able to calculate the gradients for a chain of operations, with respect to any one tensor. Let's reduce the tensor `y` to a scalar value, the mean."
   ]
  },
  {
   "cell_type": "code",
   "execution_count": 8,
   "metadata": {},
   "outputs": [
    {
     "name": "stdout",
     "output_type": "stream",
     "text": [
      "tensor(0.7716, grad_fn=<MeanBackward1>)\n"
     ]
    }
   ],
   "source": [
    "z = y.mean()\n",
    "print(z)"
   ]
  },
  {
   "cell_type": "markdown",
   "metadata": {},
   "source": [
    "You can check the gradients for `x` and `y` but they are empty currently."
   ]
  },
  {
   "cell_type": "code",
   "execution_count": 9,
   "metadata": {},
   "outputs": [
    {
     "name": "stdout",
     "output_type": "stream",
     "text": [
      "None\n"
     ]
    }
   ],
   "source": [
    "print(x.grad)"
   ]
  },
  {
   "cell_type": "markdown",
   "metadata": {},
   "source": [
    "To calculate the gradients, you need to run the `.backward` method on a Variable, `z` for example. This will calculate the gradient for `z` with respect to `x`\n",
    "\n",
    "$$\n",
    "\\frac{\\partial z}{\\partial x} = \\frac{\\partial}{\\partial x}\\left[\\frac{1}{n}\\sum_i^n x_i^2\\right] = \\frac{x}{2}\n",
    "$$"
   ]
  },
  {
   "cell_type": "code",
   "execution_count": 10,
   "metadata": {},
   "outputs": [
    {
     "name": "stdout",
     "output_type": "stream",
     "text": [
      "tensor([[ 0.3407, -0.5700],\n",
      "        [ 0.2994,  0.4910]])\n",
      "tensor([[ 0.3407, -0.5700],\n",
      "        [ 0.2994,  0.4910]], grad_fn=<DivBackward0>)\n"
     ]
    }
   ],
   "source": [
    "z.backward()\n",
    "print(x.grad)\n",
    "print(x/2)"
   ]
  },
  {
   "cell_type": "markdown",
   "metadata": {},
   "source": [
    "These gradients calculations are particularly useful for neural networks. For training we need the gradients of the weights with respect to the cost. With PyTorch, we run data forward through the network to calculate the loss, then, go backwards to calculate the gradients with respect to the loss. Once we have the gradients we can make a gradient descent step. "
   ]
  },
  {
   "cell_type": "markdown",
   "metadata": {},
   "source": [
    "## Loss and Autograd together\n",
    "\n",
    "When we create a network with PyTorch, all of the parameters are initialized with `requires_grad = True`. This means that when we calculate the loss and call `loss.backward()`, the gradients for the parameters are calculated. These gradients are used to update the weights with gradient descent. Below you can see an example of calculating the gradients using a backwards pass."
   ]
  },
  {
   "cell_type": "code",
   "execution_count": 11,
   "metadata": {},
   "outputs": [],
   "source": [
    "# Build a feed-forward network\n",
    "model = nn.Sequential(nn.Linear(784, 128),\n",
    "                      nn.ReLU(),\n",
    "                      nn.Linear(128, 64),\n",
    "                      nn.ReLU(),\n",
    "                      nn.Linear(64, 10),\n",
    "                      nn.LogSoftmax(dim=1))\n",
    "\n",
    "criterion = nn.NLLLoss()\n",
    "images, labels = next(iter(trainloader))\n",
    "images = images.view(images.shape[0], -1)\n",
    "\n",
    "logits = model(images)\n",
    "loss = criterion(logits, labels)"
   ]
  },
  {
   "cell_type": "code",
   "execution_count": 12,
   "metadata": {},
   "outputs": [
    {
     "name": "stdout",
     "output_type": "stream",
     "text": [
      "Before backward pass: \n",
      " None\n",
      "After backward pass: \n",
      " tensor([[ 0.0000,  0.0000,  0.0000,  ...,  0.0000,  0.0000,  0.0000],\n",
      "        [-0.0008, -0.0008, -0.0008,  ..., -0.0008, -0.0008, -0.0008],\n",
      "        [ 0.0016,  0.0016,  0.0016,  ...,  0.0016,  0.0016,  0.0016],\n",
      "        ...,\n",
      "        [ 0.0049,  0.0049,  0.0049,  ...,  0.0049,  0.0049,  0.0049],\n",
      "        [ 0.0008,  0.0008,  0.0008,  ...,  0.0008,  0.0008,  0.0008],\n",
      "        [-0.0054, -0.0054, -0.0054,  ..., -0.0054, -0.0054, -0.0054]])\n"
     ]
    }
   ],
   "source": [
    "print('Before backward pass: \\n', model[0].weight.grad)\n",
    "\n",
    "loss.backward()\n",
    "\n",
    "print('After backward pass: \\n', model[0].weight.grad)"
   ]
  },
  {
   "cell_type": "markdown",
   "metadata": {},
   "source": [
    "## Training the network!\n",
    "\n",
    "There's one last piece we need to start training, an optimizer that we'll use to update the weights with the gradients. We get these from PyTorch's [`optim` package](https://pytorch.org/docs/stable/optim.html). For example we can use stochastic gradient descent with `optim.SGD`. You can see how to define an optimizer below."
   ]
  },
  {
   "cell_type": "code",
   "execution_count": 13,
   "metadata": {},
   "outputs": [],
   "source": [
    "from torch import optim\n",
    "\n",
    "# Optimizers require the parameters to optimize and a learning rate\n",
    "optimizer = optim.SGD(model.parameters(), lr=0.01)"
   ]
  },
  {
   "cell_type": "markdown",
   "metadata": {},
   "source": [
    "Now we know how to use all the individual parts so it's time to see how they work together. Let's consider just one learning step before looping through all the data. The general process with PyTorch:\n",
    "\n",
    "* Make a forward pass through the network \n",
    "* Use the network output to calculate the loss\n",
    "* Perform a backward pass through the network with `loss.backward()` to calculate the gradients\n",
    "* Take a step with the optimizer to update the weights\n",
    "\n",
    "Below I'll go through one training step and print out the weights and gradients so you can see how it changes. Note that I have a line of code `optimizer.zero_grad()`. When you do multiple backwards passes with the same parameters, the gradients are accumulated. This means that you need to zero the gradients on each training pass or you'll retain gradients from previous training batches."
   ]
  },
  {
   "cell_type": "code",
   "execution_count": 14,
   "metadata": {},
   "outputs": [
    {
     "name": "stdout",
     "output_type": "stream",
     "text": [
      "Initial weights -  Parameter containing:\n",
      "tensor([[-0.0028,  0.0225, -0.0282,  ..., -0.0216,  0.0338,  0.0312],\n",
      "        [-0.0233, -0.0263, -0.0102,  ...,  0.0173, -0.0182, -0.0173],\n",
      "        [-0.0056,  0.0150,  0.0030,  ..., -0.0247, -0.0092,  0.0331],\n",
      "        ...,\n",
      "        [ 0.0260, -0.0190, -0.0170,  ..., -0.0326,  0.0015, -0.0201],\n",
      "        [-0.0245,  0.0040,  0.0133,  ..., -0.0293, -0.0351, -0.0084],\n",
      "        [-0.0356,  0.0192, -0.0156,  ...,  0.0109,  0.0082, -0.0155]],\n",
      "       requires_grad=True)\n",
      "Gradient - tensor([[ 0.0000,  0.0000,  0.0000,  ...,  0.0000,  0.0000,  0.0000],\n",
      "        [-0.0011, -0.0011, -0.0011,  ..., -0.0011, -0.0011, -0.0011],\n",
      "        [-0.0031, -0.0031, -0.0031,  ..., -0.0031, -0.0031, -0.0031],\n",
      "        ...,\n",
      "        [ 0.0002,  0.0002,  0.0002,  ...,  0.0002,  0.0002,  0.0002],\n",
      "        [-0.0041, -0.0041, -0.0041,  ..., -0.0041, -0.0041, -0.0041],\n",
      "        [ 0.0047,  0.0047,  0.0047,  ...,  0.0047,  0.0047,  0.0047]])\n"
     ]
    }
   ],
   "source": [
    "print('Initial weights - ', model[0].weight)\n",
    "\n",
    "images, labels = next(iter(trainloader))\n",
    "images.resize_(64, 784)\n",
    "\n",
    "# Clear the gradients, do this because gradients are accumulated\n",
    "optimizer.zero_grad()\n",
    "\n",
    "# Forward pass, then backward pass, then update weights\n",
    "output = model.forward(images)\n",
    "loss = criterion(output, labels)\n",
    "loss.backward()\n",
    "print('Gradient -', model[0].weight.grad)"
   ]
  },
  {
   "cell_type": "code",
   "execution_count": 15,
   "metadata": {},
   "outputs": [
    {
     "name": "stdout",
     "output_type": "stream",
     "text": [
      "Updated weights -  Parameter containing:\n",
      "tensor([[-0.0028,  0.0225, -0.0282,  ..., -0.0216,  0.0338,  0.0312],\n",
      "        [-0.0233, -0.0262, -0.0102,  ...,  0.0173, -0.0182, -0.0173],\n",
      "        [-0.0056,  0.0151,  0.0031,  ..., -0.0246, -0.0091,  0.0332],\n",
      "        ...,\n",
      "        [ 0.0260, -0.0190, -0.0170,  ..., -0.0326,  0.0015, -0.0201],\n",
      "        [-0.0244,  0.0041,  0.0134,  ..., -0.0293, -0.0350, -0.0084],\n",
      "        [-0.0356,  0.0192, -0.0156,  ...,  0.0109,  0.0082, -0.0155]],\n",
      "       requires_grad=True)\n"
     ]
    }
   ],
   "source": [
    "# Take an update step and few the new weights\n",
    "optimizer.step()\n",
    "print('Updated weights - ', model[0].weight)"
   ]
  },
  {
   "cell_type": "markdown",
   "metadata": {},
   "source": [
    "### Training for real\n",
    "\n",
    "Now we'll put this algorithm into a loop so we can go through all the images. Some nomenclature, one pass through the entire dataset is called an *epoch*. So here we're going to loop through `trainloader` to get our training batches. For each batch, we'll doing a training pass where we calculate the loss, do a backwards pass, and update the weights.\n",
    "\n",
    ">**Exercise:** Implement the training pass for our network. If you implemented it correctly, you should see the training loss drop with each epoch."
   ]
  },
  {
   "cell_type": "code",
   "execution_count": 22,
   "metadata": {},
   "outputs": [
    {
     "name": "stdout",
     "output_type": "stream",
     "text": [
      "# # # # # # # # # #\n",
      "Epoch no: 0\n",
      "# # # # # # # # # #\n",
      "Initial weights -  Parameter containing:\n",
      "tensor([[-0.0093, -0.0154,  0.0046,  ..., -0.0263, -0.0111,  0.0226],\n",
      "        [ 0.0055,  0.0343, -0.0313,  ...,  0.0203,  0.0343,  0.0040],\n",
      "        [-0.0348, -0.0268, -0.0074,  ..., -0.0019,  0.0240, -0.0340],\n",
      "        ...,\n",
      "        [ 0.0075, -0.0191, -0.0090,  ..., -0.0081, -0.0154, -0.0253],\n",
      "        [ 0.0312,  0.0049, -0.0016,  ...,  0.0353, -0.0030, -0.0217],\n",
      "        [-0.0202,  0.0025, -0.0334,  ...,  0.0046, -0.0176,  0.0092]],\n",
      "       requires_grad=True)\n",
      "Training loss: 1.9469972266825533\n",
      "Updated weights -  Parameter containing:\n",
      "tensor([[-0.0114, -0.0176,  0.0024,  ..., -0.0285, -0.0132,  0.0205],\n",
      "        [ 0.0053,  0.0340, -0.0315,  ...,  0.0201,  0.0341,  0.0038],\n",
      "        [-0.0359, -0.0279, -0.0085,  ..., -0.0031,  0.0228, -0.0352],\n",
      "        ...,\n",
      "        [ 0.0045, -0.0221, -0.0120,  ..., -0.0111, -0.0184, -0.0283],\n",
      "        [ 0.0287,  0.0024, -0.0041,  ...,  0.0328, -0.0055, -0.0242],\n",
      "        [-0.0224,  0.0003, -0.0356,  ...,  0.0024, -0.0198,  0.0071]],\n",
      "       requires_grad=True)\n",
      "# # # # # # # # # #\n",
      "Epoch no: 1\n",
      "# # # # # # # # # #\n",
      "Initial weights -  Parameter containing:\n",
      "tensor([[-0.0114, -0.0176,  0.0024,  ..., -0.0285, -0.0132,  0.0205],\n",
      "        [ 0.0053,  0.0340, -0.0315,  ...,  0.0201,  0.0341,  0.0038],\n",
      "        [-0.0359, -0.0279, -0.0085,  ..., -0.0031,  0.0228, -0.0352],\n",
      "        ...,\n",
      "        [ 0.0045, -0.0221, -0.0120,  ..., -0.0111, -0.0184, -0.0283],\n",
      "        [ 0.0287,  0.0024, -0.0041,  ...,  0.0328, -0.0055, -0.0242],\n",
      "        [-0.0224,  0.0003, -0.0356,  ...,  0.0024, -0.0198,  0.0071]],\n",
      "       requires_grad=True)\n",
      "Training loss: 0.9242657792212358\n",
      "Updated weights -  Parameter containing:\n",
      "tensor([[-0.0130, -0.0192,  0.0008,  ..., -0.0301, -0.0149,  0.0188],\n",
      "        [ 0.0051,  0.0338, -0.0318,  ...,  0.0199,  0.0339,  0.0036],\n",
      "        [-0.0362, -0.0282, -0.0088,  ..., -0.0033,  0.0226, -0.0354],\n",
      "        ...,\n",
      "        [ 0.0037, -0.0229, -0.0128,  ..., -0.0119, -0.0192, -0.0292],\n",
      "        [ 0.0278,  0.0015, -0.0050,  ...,  0.0319, -0.0064, -0.0251],\n",
      "        [-0.0232, -0.0005, -0.0364,  ...,  0.0016, -0.0206,  0.0063]],\n",
      "       requires_grad=True)\n",
      "# # # # # # # # # #\n",
      "Epoch no: 2\n",
      "# # # # # # # # # #\n",
      "Initial weights -  Parameter containing:\n",
      "tensor([[-0.0130, -0.0192,  0.0008,  ..., -0.0301, -0.0149,  0.0188],\n",
      "        [ 0.0051,  0.0338, -0.0318,  ...,  0.0199,  0.0339,  0.0036],\n",
      "        [-0.0362, -0.0282, -0.0088,  ..., -0.0033,  0.0226, -0.0354],\n",
      "        ...,\n",
      "        [ 0.0037, -0.0229, -0.0128,  ..., -0.0119, -0.0192, -0.0292],\n",
      "        [ 0.0278,  0.0015, -0.0050,  ...,  0.0319, -0.0064, -0.0251],\n",
      "        [-0.0232, -0.0005, -0.0364,  ...,  0.0016, -0.0206,  0.0063]],\n",
      "       requires_grad=True)\n",
      "Training loss: 0.5673205245659549\n",
      "Updated weights -  Parameter containing:\n",
      "tensor([[-0.0138, -0.0200, -0.0000,  ..., -0.0309, -0.0156,  0.0181],\n",
      "        [ 0.0053,  0.0340, -0.0316,  ...,  0.0201,  0.0341,  0.0038],\n",
      "        [-0.0359, -0.0278, -0.0085,  ..., -0.0030,  0.0229, -0.0351],\n",
      "        ...,\n",
      "        [ 0.0033, -0.0233, -0.0132,  ..., -0.0123, -0.0196, -0.0296],\n",
      "        [ 0.0277,  0.0015, -0.0050,  ...,  0.0319, -0.0064, -0.0251],\n",
      "        [-0.0232, -0.0005, -0.0364,  ...,  0.0017, -0.0206,  0.0063]],\n",
      "       requires_grad=True)\n",
      "# # # # # # # # # #\n",
      "Epoch no: 3\n",
      "# # # # # # # # # #\n",
      "Initial weights -  Parameter containing:\n",
      "tensor([[-0.0138, -0.0200, -0.0000,  ..., -0.0309, -0.0156,  0.0181],\n",
      "        [ 0.0053,  0.0340, -0.0316,  ...,  0.0201,  0.0341,  0.0038],\n",
      "        [-0.0359, -0.0278, -0.0085,  ..., -0.0030,  0.0229, -0.0351],\n",
      "        ...,\n",
      "        [ 0.0033, -0.0233, -0.0132,  ..., -0.0123, -0.0196, -0.0296],\n",
      "        [ 0.0277,  0.0015, -0.0050,  ...,  0.0319, -0.0064, -0.0251],\n",
      "        [-0.0232, -0.0005, -0.0364,  ...,  0.0017, -0.0206,  0.0063]],\n",
      "       requires_grad=True)\n",
      "Training loss: 0.4517881266756861\n",
      "Updated weights -  Parameter containing:\n",
      "tensor([[-0.0142, -0.0204, -0.0004,  ..., -0.0313, -0.0160,  0.0177],\n",
      "        [ 0.0055,  0.0343, -0.0313,  ...,  0.0203,  0.0344,  0.0040],\n",
      "        [-0.0354, -0.0274, -0.0080,  ..., -0.0025,  0.0233, -0.0347],\n",
      "        ...,\n",
      "        [ 0.0031, -0.0235, -0.0134,  ..., -0.0125, -0.0198, -0.0298],\n",
      "        [ 0.0279,  0.0016, -0.0049,  ...,  0.0320, -0.0063, -0.0250],\n",
      "        [-0.0231, -0.0004, -0.0363,  ...,  0.0017, -0.0205,  0.0063]],\n",
      "       requires_grad=True)\n",
      "# # # # # # # # # #\n",
      "Epoch no: 4\n",
      "# # # # # # # # # #\n",
      "Initial weights -  Parameter containing:\n",
      "tensor([[-0.0142, -0.0204, -0.0004,  ..., -0.0313, -0.0160,  0.0177],\n",
      "        [ 0.0055,  0.0343, -0.0313,  ...,  0.0203,  0.0344,  0.0040],\n",
      "        [-0.0354, -0.0274, -0.0080,  ..., -0.0025,  0.0233, -0.0347],\n",
      "        ...,\n",
      "        [ 0.0031, -0.0235, -0.0134,  ..., -0.0125, -0.0198, -0.0298],\n",
      "        [ 0.0279,  0.0016, -0.0049,  ...,  0.0320, -0.0063, -0.0250],\n",
      "        [-0.0231, -0.0004, -0.0363,  ...,  0.0017, -0.0205,  0.0063]],\n",
      "       requires_grad=True)\n",
      "Training loss: 0.3940198626567814\n",
      "Updated weights -  Parameter containing:\n",
      "tensor([[-0.0145, -0.0207, -0.0007,  ..., -0.0315, -0.0163,  0.0174],\n",
      "        [ 0.0058,  0.0346, -0.0310,  ...,  0.0206,  0.0346,  0.0043],\n",
      "        [-0.0350, -0.0270, -0.0076,  ..., -0.0021,  0.0238, -0.0343],\n",
      "        ...,\n",
      "        [ 0.0029, -0.0238, -0.0136,  ..., -0.0127, -0.0201, -0.0300],\n",
      "        [ 0.0280,  0.0018, -0.0048,  ...,  0.0321, -0.0062, -0.0249],\n",
      "        [-0.0228, -0.0001, -0.0360,  ...,  0.0020, -0.0202,  0.0067]],\n",
      "       requires_grad=True)\n"
     ]
    }
   ],
   "source": [
    "## Your solution here\n",
    "\n",
    "model = nn.Sequential(nn.Linear(784, 128),\n",
    "                      nn.ReLU(),\n",
    "                      nn.Linear(128, 64),\n",
    "                      nn.ReLU(),\n",
    "                      nn.Linear(64, 10),\n",
    "                      nn.LogSoftmax(dim=1))\n",
    "\n",
    "criterion = nn.NLLLoss()\n",
    "optimizer = optim.SGD(model.parameters(), lr=0.003)\n",
    "\n",
    "epochs = 5\n",
    "for e in range(epochs):\n",
    "    print(\"# # # # # # # # # #\")\n",
    "    print(\"Epoch no: \" + str(e))\n",
    "    print(\"# # # # # # # # # #\")\n",
    "    \n",
    "    #print('Gradient -', model[0].weight.grad)\n",
    "    \n",
    "    print('Initial weights - ', model[0].weight)\n",
    "        \n",
    "    running_loss = 0\n",
    "    for images, labels in trainloader:\n",
    "        # Flatten MNIST images into a 784 long vector\n",
    "        images = images.view(images.shape[0], -1)\n",
    "    \n",
    "        # TODO: Training pass\n",
    "        \n",
    "        # Clear the gradients, do this because gradients are accumulated\n",
    "        optimizer.zero_grad()\n",
    "\n",
    "        # Forward pass, then backward pass, then update weights\n",
    "        output = model.forward(images)\n",
    "        loss = criterion(output, labels)\n",
    "        loss.backward()\n",
    "        \n",
    "        # Take an update step and few the new weights\n",
    "        optimizer.step()\n",
    "        \n",
    "        running_loss += loss.item()\n",
    "    else:\n",
    "        print(f\"Training loss: {running_loss/len(trainloader)}\")\n",
    "    \n",
    "    print('Updated weights - ', model[0].weight)"
   ]
  },
  {
   "cell_type": "markdown",
   "metadata": {},
   "source": [
    "With the network trained, we can check out it's predictions."
   ]
  },
  {
   "cell_type": "code",
   "execution_count": 25,
   "metadata": {},
   "outputs": [
    {
     "data": {
      "image/png": "[encoded data removed]",
      "text/plain": [
       "<Figure size 432x648 with 2 Axes>"
      ]
     },
     "metadata": {
      "needs_background": "light"
     },
     "output_type": "display_data"
    }
   ],
   "source": [
    "%matplotlib inline\n",
    "import helper\n",
    "\n",
    "images, labels = next(iter(trainloader))\n",
    "\n",
    "img = images[0].view(1, 784)\n",
    "# Turn off gradients to speed up this part\n",
    "with torch.no_grad():\n",
    "    logits = model.forward(img)\n",
    "\n",
    "# Output of the network are logits, need to take softmax for probabilities\n",
    "ps = F.softmax(logits, dim=1)\n",
    "helper.view_classify(img.view(1, 28, 28), ps)"
   ]
  },
  {
   "cell_type": "markdown",
   "metadata": {},
   "source": [
    "Now our network is brilliant. It can accurately predict the digits in our images. Next up you'll write the code for training a neural network on a more complex dataset."
   ]
  },
  {
   "cell_type": "code",
   "execution_count": null,
   "metadata": {},
   "outputs": [],
   "source": []
  }
 ],
 "metadata": {
  "kernelspec": {
   "display_name": "Python 3",
   "language": "python",
   "name": "python3"
  },
  "language_info": {
   "codemirror_mode": {
    "name": "ipython",
    "version": 3
   },
   "file_extension": ".py",
   "mimetype": "text/x-python",
   "name": "python",
   "nbconvert_exporter": "python",
   "pygments_lexer": "ipython3",
   "version": "3.6.7"
  }
 },
 "nbformat": 4,
 "nbformat_minor": 2
}
