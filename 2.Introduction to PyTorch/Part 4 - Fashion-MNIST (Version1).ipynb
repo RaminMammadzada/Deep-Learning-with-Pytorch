{
 "cells": [
  {
   "cell_type": "markdown",
   "metadata": {},
   "source": [
    "# Classifying Fashion-MNIST\n",
    "\n",
    "Now it's your turn to build and train a neural network. You'll be using the [Fashion-MNIST dataset](https://github.com/zalandoresearch/fashion-mnist), a drop-in replacement for the MNIST dataset. MNIST is actually quite trivial with neural networks where you can easily achieve better than 97% accuracy. Fashion-MNIST is a set of 28x28 greyscale images of clothes. It's more complex than MNIST, so it's a better representation of the actual performance of your network, and a better representation of datasets you'll use in the real world.\n",
    "\n",
    "<img src='assets/fashion-mnist-sprite.png' width=500px>\n",
    "\n",
    "In this notebook, you'll build your own neural network. For the most part, you could just copy and paste the code from Part 3, but you wouldn't be learning. It's important for you to write the code yourself and get it to work. Feel free to consult the previous notebooks though as you work through this.\n",
    "\n",
    "First off, let's load the dataset through torchvision."
   ]
  },
  {
   "cell_type": "code",
   "execution_count": 22,
   "metadata": {},
   "outputs": [],
   "source": [
    "import torch\n",
    "from torchvision import datasets, transforms\n",
    "import helper\n",
    "\n",
    "# Define a transform to normalize the data\n",
    "transform = transforms.Compose([transforms.ToTensor(),\n",
    "                                transforms.Normalize((0.5, 0.5, 0.5), (0.5, 0.5, 0.5))])\n",
    "# Download and load the training data\n",
    "trainset = datasets.FashionMNIST('~/.pytorch/F_MNIST_data/', download=True, train=True, transform=transform)\n",
    "trainloader = torch.utils.data.DataLoader(trainset, batch_size=64, shuffle=True)\n",
    "\n",
    "# Download and load the test data\n",
    "testset = datasets.FashionMNIST('~/.pytorch/F_MNIST_data/', download=True, train=False, transform=transform)\n",
    "testloader = torch.utils.data.DataLoader(testset, batch_size=64, shuffle=True)"
   ]
  },
  {
   "cell_type": "code",
   "execution_count": 23,
   "metadata": {},
   "outputs": [
    {
     "data": {
      "image/png": "[encoded data removed]",
      "text/plain": [
       "<Figure size 432x288 with 1 Axes>"
      ]
     },
     "metadata": {
      "needs_background": "light"
     },
     "output_type": "display_data"
    }
   ],
   "source": [
    "image, label = next(iter(trainloader))\n",
    "helper.imshow(image[0,:]);"
   ]
  },
  {
   "cell_type": "markdown",
   "metadata": {},
   "source": [
    "## Building the network\n",
    "\n",
    "Here you should define your network. As with MNIST, each image is 28x28 which is a total of 784 pixels, and there are 10 classes. You should include at least one hidden layer. We suggest you use ReLU activations for the layers and to return the logits or log-softmax from the forward pass. It's up to you how many layers you add and the size of those layers."
   ]
  },
  {
   "cell_type": "code",
   "execution_count": 24,
   "metadata": {},
   "outputs": [],
   "source": [
    "# TODO: Define your network architecture here\n",
    "from torch import nn\n",
    "import torch.nn.functional as F\n",
    "\n",
    "model = nn.Sequential(nn.Linear(784, 128),\n",
    "                      nn.ReLU(),\n",
    "                      nn.Linear(128, 64),\n",
    "                      nn.ReLU(),\n",
    "                      nn.Linear(64, 10),\n",
    "                      nn.LogSoftmax(dim = 1))"
   ]
  },
  {
   "cell_type": "markdown",
   "metadata": {},
   "source": [
    "# Train the network\n",
    "\n",
    "Now you should create your network and train it. First you'll want to define [the criterion](http://pytorch.org/docs/master/nn.html#loss-functions) ( something like `nn.CrossEntropyLoss`) and [the optimizer](http://pytorch.org/docs/master/optim.html) (typically `optim.SGD` or `optim.Adam`).\n",
    "\n",
    "Then write the training code. Remember the training pass is a fairly straightforward process:\n",
    "\n",
    "* Make a forward pass through the network to get the logits \n",
    "* Use the logits to calculate the loss\n",
    "* Perform a backward pass through the network with `loss.backward()` to calculate the gradients\n",
    "* Take a step with the optimizer to update the weights\n",
    "\n",
    "By adjusting the hyperparameters (hidden units, learning rate, etc), you should be able to get the training loss below 0.4."
   ]
  },
  {
   "cell_type": "code",
   "execution_count": 25,
   "metadata": {},
   "outputs": [],
   "source": [
    "# TODO: Create the network, define the criterion and optimizer\n",
    "from torch import optim\n",
    "\n",
    "# Define the loss\n",
    "criterion = nn.CrossEntropyLoss() # criterion = nn.NLLLoss()\n",
    "\n",
    "optimizer = optim.SGD(model.parameters(), lr=0.003)"
   ]
  },
  {
   "cell_type": "code",
   "execution_count": 31,
   "metadata": {},
   "outputs": [
    {
     "name": "stdout",
     "output_type": "stream",
     "text": [
      "Training in 20 epochs:\n",
      "- - - - - - - - - -\n",
      "Epoch no: 0\n",
      "Training loss: 0.39376260594391366\n",
      "# # # # # # # # # #\n",
      "Epoch no: 1\n",
      "Training loss: 0.3901699571880196\n",
      "# # # # # # # # # #\n",
      "Epoch no: 2\n",
      "Training loss: 0.38625149357357\n",
      "# # # # # # # # # #\n",
      "Epoch no: 3\n",
      "Training loss: 0.38313549289952464\n",
      "# # # # # # # # # #\n",
      "Epoch no: 4\n",
      "Training loss: 0.3795009122124867\n",
      "# # # # # # # # # #\n",
      "Epoch no: 5\n",
      "Training loss: 0.3764964800431276\n",
      "# # # # # # # # # #\n",
      "Epoch no: 6\n",
      "Training loss: 0.3733631321933986\n",
      "# # # # # # # # # #\n",
      "Epoch no: 7\n",
      "Training loss: 0.3701329404738412\n",
      "# # # # # # # # # #\n",
      "Epoch no: 8\n",
      "Training loss: 0.36718016327507713\n",
      "# # # # # # # # # #\n",
      "Epoch no: 9\n",
      "Training loss: 0.3644123322515091\n",
      "# # # # # # # # # #\n",
      "Epoch no: 10\n",
      "Training loss: 0.36102703807831826\n",
      "# # # # # # # # # #\n",
      "Epoch no: 11\n",
      "Training loss: 0.3588014005153164\n",
      "# # # # # # # # # #\n",
      "Epoch no: 12\n",
      "Training loss: 0.3559381932433226\n",
      "# # # # # # # # # #\n",
      "Epoch no: 13\n",
      "Training loss: 0.35324212645035563\n",
      "# # # # # # # # # #\n",
      "Epoch no: 14\n",
      "Training loss: 0.350936124629494\n",
      "# # # # # # # # # #\n",
      "Epoch no: 15\n",
      "Training loss: 0.3477021696518606\n",
      "# # # # # # # # # #\n",
      "Epoch no: 16\n",
      "Training loss: 0.3453633108182248\n",
      "# # # # # # # # # #\n",
      "Epoch no: 17\n",
      "Training loss: 0.3432291436996033\n",
      "# # # # # # # # # #\n",
      "Epoch no: 18\n",
      "Training loss: 0.3406734057009093\n",
      "# # # # # # # # # #\n",
      "Epoch no: 19\n",
      "Training loss: 0.3379710098065293\n",
      "# # # # # # # # # #\n"
     ]
    }
   ],
   "source": [
    "# TODO: Train the network here\n",
    "epochs = 20\n",
    "new_training_loss = 10\n",
    "print(\"Training in \" + str(epochs) + \" epochs:\")\n",
    "print(\"- - - - - - - - - -\")\n",
    "for e in range(epochs):\n",
    "    print(\"Epoch no: \" + str(e))\n",
    "    \n",
    "    #print('Gradient -', model[0].weight.grad)\n",
    "    \n",
    "    #print('Initial weights - ', model[0].weight)\n",
    "    \n",
    "    running_loss = 0\n",
    "    for images, labels in trainloader:\n",
    "        # Flatten images (Flatten MNIST images into a 784 long vector)\n",
    "        images = images.view(images.shape[0], -1)\n",
    "        \n",
    "        # Clear the gradients, do this because gradients are accumulated\n",
    "        optimizer.zero_grad()\n",
    "\n",
    "        # Forward pass, then backward pass, then update weights\n",
    "        output = model.forward(images)\n",
    "        \n",
    "        # Calculate the loss with labels\n",
    "        loss = criterion(output, labels)\n",
    "        loss.backward()\n",
    "        \n",
    "        # Take an update step and few the new weights\n",
    "        optimizer.step()\n",
    "        \n",
    "        running_loss += loss.item()\n",
    "        \n",
    "    else:\n",
    "        print(f\"Training loss: {running_loss/len(trainloader)}\")\n",
    "        training_loss = running_loss/len(trainloader)\n",
    "        if(training_loss < new_training_loss):\n",
    "            new_training_loss = training_loss\n",
    "        else: break\n",
    "        \n",
    "        \n",
    "    \n",
    "    #print('Updated weights - ', model[0].weight)\n",
    "\n",
    "    print(\"# # # # # # # # # #\")\n",
    "    \n"
   ]
  },
  {
   "cell_type": "code",
   "execution_count": 46,
   "metadata": {},
   "outputs": [
    {
     "data": {
      "image/png": "[encoded data removed]",
      "text/plain": [
       "<Figure size 432x648 with 2 Axes>"
      ]
     },
     "metadata": {
      "image/png": {
       "height": 206,
       "width": 423
      },
      "needs_background": "light"
     },
     "output_type": "display_data"
    }
   ],
   "source": [
    "%matplotlib inline\n",
    "%config InlineBackend.figure_format = 'retina'\n",
    "\n",
    "import helper\n",
    "\n",
    "# Test out your network!\n",
    "\n",
    "dataiter = iter(testloader)\n",
    "images, labels = dataiter.next()\n",
    "img = images[0]\n",
    "# Convert 2D image to 1D vector\n",
    "img = img.resize_(1, 784)\n",
    "\n",
    "with torch.no_grad():\n",
    "    logits = model.forward(img)\n",
    "\n",
    "# TODO: Calculate the class probabilities (softmax) for img\n",
    "#ps = F.softmax(model.forward(img), dim=1)\n",
    "ps = F.softmax(logits, dim=1)\n",
    "\n",
    "# Plot the image and probabilities\n",
    "helper.view_classify(img.resize_(1, 28, 28), ps, version='Fashion')"
   ]
  },
  {
   "cell_type": "code",
   "execution_count": null,
   "metadata": {},
   "outputs": [],
   "source": []
  },
  {
   "cell_type": "code",
   "execution_count": null,
   "metadata": {},
   "outputs": [],
   "source": []
  }
 ],
 "metadata": {
  "kernelspec": {
   "display_name": "Python 3",
   "language": "python",
   "name": "python3"
  },
  "language_info": {
   "codemirror_mode": {
    "name": "ipython",
    "version": 3
   },
   "file_extension": ".py",
   "mimetype": "text/x-python",
   "name": "python",
   "nbconvert_exporter": "python",
   "pygments_lexer": "ipython3",
   "version": "3.6.7"
  }
 },
 "nbformat": 4,
 "nbformat_minor": 2
}
